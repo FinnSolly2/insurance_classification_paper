{
 "cells": [
  {
   "cell_type": "code",
   "execution_count": 1,
   "metadata": {},
   "outputs": [],
   "source": [
    "# conda install joblib --quiet"
   ]
  },
  {
   "cell_type": "code",
   "execution_count": 1,
   "metadata": {},
   "outputs": [],
   "source": [
    "import time\n",
    "import joblib\n",
    "import numpy as np\n",
    "import pandas as pd\n",
    "import matplotlib.pyplot as plt\n",
    "import seaborn as sns\n",
    "import re\n",
    "\n",
    "from matplotlib.ticker import FuncFormatter\n",
    "from unidecode import unidecode\n",
    "from sklearn.model_selection import train_test_split\n",
    "from sklearn.ensemble import ExtraTreesClassifier, RandomForestClassifier\n",
    "from sklearn.metrics import roc_auc_score, confusion_matrix, classification_report, roc_curve, auc\n",
    "from sklearn.metrics import confusion_matrix, ConfusionMatrixDisplay\n",
    "\n",
    "from collections import Counter\n"
   ]
  },
  {
   "cell_type": "code",
   "execution_count": 60,
   "metadata": {},
   "outputs": [],
   "source": [
    "notebook_start_time = time.time()"
   ]
  },
  {
   "cell_type": "markdown",
   "metadata": {},
   "source": [
    "## 0. Notebook settings"
   ]
  },
  {
   "cell_type": "code",
   "execution_count": 15,
   "metadata": {},
   "outputs": [
    {
     "name": "stdout",
     "output_type": "stream",
     "text": [
      "Working file has been set to BBDD_V7_SINCO_SoftImputer.csv\n",
      "KPI has been set to BMA_corregido\n",
      "Paramter test_size has been set to 0.3\n",
      "Parameter threshold has been set to: 0\n",
      "Parameter consider_feat_importance has been set to: True\n",
      "Paramter per_features_to_select has been set to: 0.05\n"
     ]
    }
   ],
   "source": [
    "# Set notebook parameters\n",
    "file_path = \"BBDD_V7_SINCO_SoftImputer.csv\"\n",
    "KPI = 'BMA_corregido' # KPI to be considered to classify customers as 0 (to be selected) or 1 (to be excluded)\n",
    "test_size = 0.30 # Test size for the train-test split\n",
    "threshold = 0 # if KPI > threshold then customer belongs to class 0; otherwise, customer belongs to class 1\n",
    "consider_feat_importance = True\n",
    "per_features_to_select = 0.05 # If consider_feat_importance, percentage of features to select\n",
    "# Print notebook parameters\n",
    "print('Working file has been set to', file_path)\n",
    "print('KPI has been set to', KPI)\n",
    "print('Paramter test_size has been set to', test_size)\n",
    "print('Parameter threshold has been set to:', threshold)\n",
    "print('Parameter consider_feat_importance has been set to:', consider_feat_importance)\n",
    "if consider_feat_importance:\n",
    "    print('Paramter per_features_to_select has been set to:', per_features_to_select)"
   ]
  },
  {
   "cell_type": "markdown",
   "metadata": {},
   "source": [
    "## 1. Data preprocessing"
   ]
  },
  {
   "cell_type": "code",
   "execution_count": 19,
   "metadata": {},
   "outputs": [
    {
     "name": "stdout",
     "output_type": "stream",
     "text": [
      "The following columns have been removed:\n",
      " ['PrimaTotalPoliza', 'ComisionTotalPoliza', 'SiniestralidadTotalPoliza', 'ExposicionTotalPoliza']\n",
      "\n",
      "Dataset shape (rows, columns): (116934, 196)\n",
      "Non-unicode characters in columns' names have been removed to avoid issues with models.\n"
     ]
    }
   ],
   "source": [
    "# Read the data file\n",
    "df = pd.read_csv(file_path)\n",
    "# Remove additional columns since they will not be available for new customers\n",
    "col_to_remove = ['PrimaTotalPoliza', 'ComisionTotalPoliza', 'SiniestralidadTotalPoliza', 'ExposicionTotalPoliza']\n",
    "df_original=df.copy()\n",
    "df = df.drop(columns=col_to_remove)\n",
    "print(\"The following columns have been removed:\\n\", col_to_remove)\n",
    "print(\"\\nDataset shape (rows, columns):\", df.shape)\n",
    "# Use unicode characters for column names and remove non-alphanumeric characters\n",
    "df.columns = [unidecode(column) for column in df.columns]\n",
    "df.columns = [re.sub(r'\\W+', '_', column) for column in df.columns]\n",
    "print(\"Non-unicode characters in columns' names have been removed to avoid issues with models.\")"
   ]
  },
  {
   "cell_type": "code",
   "execution_count": 20,
   "metadata": {},
   "outputs": [
    {
     "name": "stdout",
     "output_type": "stream",
     "text": [
      "Long names in columns have been shortened to avoid issues with models.\n"
     ]
    }
   ],
   "source": [
    "# Define function to shorten column name\n",
    "def shorten_column_name(column_name, max_length=30, prefix_length=15, suffix_length=15):\n",
    "    if len(column_name) <= max_length: return column_name\n",
    "    else: return column_name[:prefix_length] + '_' + column_name[-suffix_length:]\n",
    "    \n",
    "# Shorten column names in DataFrame\n",
    "df.columns = [shorten_column_name(column) for column in df.columns]\n",
    "print(\"Long names in columns have been shortened to avoid issues with models.\")"
   ]
  },
  {
   "cell_type": "code",
   "execution_count": 21,
   "metadata": {},
   "outputs": [
    {
     "data": {
      "text/html": [
       "<div>\n",
       "<style scoped>\n",
       "    .dataframe tbody tr th:only-of-type {\n",
       "        vertical-align: middle;\n",
       "    }\n",
       "\n",
       "    .dataframe tbody tr th {\n",
       "        vertical-align: top;\n",
       "    }\n",
       "\n",
       "    .dataframe thead th {\n",
       "        text-align: right;\n",
       "    }\n",
       "</style>\n",
       "<table border=\"1\" class=\"dataframe\">\n",
       "  <thead>\n",
       "    <tr style=\"text-align: right;\">\n",
       "      <th></th>\n",
       "      <th>id17</th>\n",
       "      <th>id18</th>\n",
       "      <th>id21</th>\n",
       "      <th>id55</th>\n",
       "      <th>id58_1</th>\n",
       "      <th>id58_2</th>\n",
       "      <th>id58_3</th>\n",
       "      <th>id59</th>\n",
       "      <th>id60</th>\n",
       "      <th>id61</th>\n",
       "      <th>...</th>\n",
       "      <th>Subramo_TURISMO_NO_CUADRICICLOS</th>\n",
       "      <th>Subramo_VEHICULOS_AGRICOLAS</th>\n",
       "      <th>Subramo_VEHICULOS_INDUSTRIALES</th>\n",
       "      <th>TipoConsultaSINCO_Tomador</th>\n",
       "      <th>NotaLUA_B</th>\n",
       "      <th>NotaLUA_C</th>\n",
       "      <th>NotaLUA_D</th>\n",
       "      <th>NotaLUA_E</th>\n",
       "      <th>NotaLUA_F</th>\n",
       "      <th>NotaLUA_G</th>\n",
       "    </tr>\n",
       "  </thead>\n",
       "  <tbody>\n",
       "    <tr>\n",
       "      <th>0</th>\n",
       "      <td>31.0</td>\n",
       "      <td>403.0</td>\n",
       "      <td>3710.0</td>\n",
       "      <td>-50.0</td>\n",
       "      <td>1.0</td>\n",
       "      <td>0.0</td>\n",
       "      <td>0.0</td>\n",
       "      <td>6072.07</td>\n",
       "      <td>913.94</td>\n",
       "      <td>3405.92</td>\n",
       "      <td>...</td>\n",
       "      <td>1.0</td>\n",
       "      <td>0.0</td>\n",
       "      <td>0.0</td>\n",
       "      <td>0.0</td>\n",
       "      <td>0.0</td>\n",
       "      <td>1.0</td>\n",
       "      <td>0.0</td>\n",
       "      <td>0.0</td>\n",
       "      <td>0.0</td>\n",
       "      <td>0.0</td>\n",
       "    </tr>\n",
       "    <tr>\n",
       "      <th>1</th>\n",
       "      <td>35.0</td>\n",
       "      <td>40.0</td>\n",
       "      <td>3440.0</td>\n",
       "      <td>-50.0</td>\n",
       "      <td>2.0</td>\n",
       "      <td>1.0</td>\n",
       "      <td>1.0</td>\n",
       "      <td>36842.45</td>\n",
       "      <td>4673.69</td>\n",
       "      <td>13172.78</td>\n",
       "      <td>...</td>\n",
       "      <td>1.0</td>\n",
       "      <td>0.0</td>\n",
       "      <td>0.0</td>\n",
       "      <td>0.0</td>\n",
       "      <td>0.0</td>\n",
       "      <td>0.0</td>\n",
       "      <td>1.0</td>\n",
       "      <td>0.0</td>\n",
       "      <td>0.0</td>\n",
       "      <td>0.0</td>\n",
       "    </tr>\n",
       "    <tr>\n",
       "      <th>2</th>\n",
       "      <td>180.0</td>\n",
       "      <td>56.0</td>\n",
       "      <td>41840.0</td>\n",
       "      <td>-50.0</td>\n",
       "      <td>0.0</td>\n",
       "      <td>0.0</td>\n",
       "      <td>0.0</td>\n",
       "      <td>0.00</td>\n",
       "      <td>0.00</td>\n",
       "      <td>0.00</td>\n",
       "      <td>...</td>\n",
       "      <td>0.0</td>\n",
       "      <td>0.0</td>\n",
       "      <td>0.0</td>\n",
       "      <td>0.0</td>\n",
       "      <td>0.0</td>\n",
       "      <td>0.0</td>\n",
       "      <td>0.0</td>\n",
       "      <td>1.0</td>\n",
       "      <td>0.0</td>\n",
       "      <td>0.0</td>\n",
       "    </tr>\n",
       "    <tr>\n",
       "      <th>3</th>\n",
       "      <td>31.0</td>\n",
       "      <td>403.0</td>\n",
       "      <td>3710.0</td>\n",
       "      <td>-5.0</td>\n",
       "      <td>0.0</td>\n",
       "      <td>0.0</td>\n",
       "      <td>0.0</td>\n",
       "      <td>0.00</td>\n",
       "      <td>0.00</td>\n",
       "      <td>0.00</td>\n",
       "      <td>...</td>\n",
       "      <td>1.0</td>\n",
       "      <td>0.0</td>\n",
       "      <td>0.0</td>\n",
       "      <td>0.0</td>\n",
       "      <td>1.0</td>\n",
       "      <td>0.0</td>\n",
       "      <td>0.0</td>\n",
       "      <td>0.0</td>\n",
       "      <td>0.0</td>\n",
       "      <td>0.0</td>\n",
       "    </tr>\n",
       "    <tr>\n",
       "      <th>4</th>\n",
       "      <td>600.0</td>\n",
       "      <td>80.0</td>\n",
       "      <td>3001.0</td>\n",
       "      <td>-50.0</td>\n",
       "      <td>0.0</td>\n",
       "      <td>0.0</td>\n",
       "      <td>0.0</td>\n",
       "      <td>0.00</td>\n",
       "      <td>0.00</td>\n",
       "      <td>0.00</td>\n",
       "      <td>...</td>\n",
       "      <td>1.0</td>\n",
       "      <td>0.0</td>\n",
       "      <td>0.0</td>\n",
       "      <td>1.0</td>\n",
       "      <td>0.0</td>\n",
       "      <td>0.0</td>\n",
       "      <td>0.0</td>\n",
       "      <td>0.0</td>\n",
       "      <td>0.0</td>\n",
       "      <td>1.0</td>\n",
       "    </tr>\n",
       "  </tbody>\n",
       "</table>\n",
       "<p>5 rows × 196 columns</p>\n",
       "</div>"
      ],
      "text/plain": [
       "    id17   id18     id21  id55  id58_1  id58_2  id58_3      id59     id60  \\\n",
       "0   31.0  403.0   3710.0 -50.0     1.0     0.0     0.0   6072.07   913.94   \n",
       "1   35.0   40.0   3440.0 -50.0     2.0     1.0     1.0  36842.45  4673.69   \n",
       "2  180.0   56.0  41840.0 -50.0     0.0     0.0     0.0      0.00     0.00   \n",
       "3   31.0  403.0   3710.0  -5.0     0.0     0.0     0.0      0.00     0.00   \n",
       "4  600.0   80.0   3001.0 -50.0     0.0     0.0     0.0      0.00     0.00   \n",
       "\n",
       "       id61  ...  Subramo_TURISMO_NO_CUADRICICLOS  \\\n",
       "0   3405.92  ...                              1.0   \n",
       "1  13172.78  ...                              1.0   \n",
       "2      0.00  ...                              0.0   \n",
       "3      0.00  ...                              1.0   \n",
       "4      0.00  ...                              1.0   \n",
       "\n",
       "   Subramo_VEHICULOS_AGRICOLAS  Subramo_VEHICULOS_INDUSTRIALES  \\\n",
       "0                          0.0                             0.0   \n",
       "1                          0.0                             0.0   \n",
       "2                          0.0                             0.0   \n",
       "3                          0.0                             0.0   \n",
       "4                          0.0                             0.0   \n",
       "\n",
       "   TipoConsultaSINCO_Tomador  NotaLUA_B  NotaLUA_C  NotaLUA_D  NotaLUA_E  \\\n",
       "0                        0.0        0.0        1.0        0.0        0.0   \n",
       "1                        0.0        0.0        0.0        1.0        0.0   \n",
       "2                        0.0        0.0        0.0        0.0        1.0   \n",
       "3                        0.0        1.0        0.0        0.0        0.0   \n",
       "4                        1.0        0.0        0.0        0.0        0.0   \n",
       "\n",
       "   NotaLUA_F  NotaLUA_G  \n",
       "0        0.0        0.0  \n",
       "1        0.0        0.0  \n",
       "2        0.0        0.0  \n",
       "3        0.0        0.0  \n",
       "4        0.0        1.0  \n",
       "\n",
       "[5 rows x 196 columns]"
      ]
     },
     "execution_count": 21,
     "metadata": {},
     "output_type": "execute_result"
    }
   ],
   "source": [
    "# Display the first rows of the dataframe\n",
    "df.head()"
   ]
  },
  {
   "cell_type": "code",
   "execution_count": 22,
   "metadata": {},
   "outputs": [
    {
     "name": "stdout",
     "output_type": "stream",
     "text": [
      "Dataframe shape before rows removal (if any) operation: (116934, 196)\n",
      "Rows without SINCO data have been removed.\n",
      "Dataframe shape after rows removal (if any) operation: (51618, 196)\n"
     ]
    }
   ],
   "source": [
    "# Remove rows without SINCO information\n",
    "print(\"Dataframe shape before rows removal (if any) operation:\", df.shape)\n",
    "df = df[df['SINCO'] != 0]\n",
    "print(\"Rows without SINCO data have been removed.\")\n",
    "print(\"Dataframe shape after rows removal (if any) operation:\", df.shape)"
   ]
  },
  {
   "cell_type": "code",
   "execution_count": 23,
   "metadata": {},
   "outputs": [
    {
     "name": "stdout",
     "output_type": "stream",
     "text": [
      "The following SINCO columns have been identified:\n",
      "\n",
      " ['SINCOTotalVehiculos', 'TotalMatriculasSINCO', 'TiempoSINCO', 'PerteneceSINCO', 'TiempoMedioSINCO', 'TiempoSeguroSINCO', 'TiempoSINCO_Anos', 'FrecuenciaDanyo_MaterialesSINCO', 'FrecuenciaDanyo_PersonalesSINCO', 'FrecuenciaSiniestroSINCO', 'NV_AutomovilSINCO', 'NV_MotocicletaSINCO', 'NV_OtrosSINCO', 'Result_siniestros_SINCO', 'SINCOMatriculaIncluida', 'NumeroDanyosMaterialesSINCO', 'ProcesoDanyosMaterialesSINCO', 'NumeroDanyosPersonalesSINCO', 'ProcesoDanyosPersonalesSINCO', 'SINCO', 'TipoConsultaSINCO_Tomador', 'id55']\n"
     ]
    }
   ],
   "source": [
    "# Identify SINCO columns in the dataset\n",
    "sinco_columns = [col for col in df.columns if 'SINCO' in col]\n",
    "sinco_columns += ['id55'] # is also SINCO as indicated by Raquel\n",
    "print(\"The following SINCO columns have been identified:\\n\\n\", sinco_columns)"
   ]
  },
  {
   "cell_type": "code",
   "execution_count": 24,
   "metadata": {},
   "outputs": [
    {
     "name": "stdout",
     "output_type": "stream",
     "text": [
      "(51618, 196)\n",
      "Columns with more missing data:\n",
      "id17                    0\n",
      "TotalMatriculasSINCO    0\n",
      "PerteneceSINCO          0\n",
      "TiempoMedioSINCO        0\n",
      "TiempoSeguroSINCO       0\n",
      "dtype: int64\n",
      "\n",
      "Total number of missing data: 0\n"
     ]
    }
   ],
   "source": [
    "# Calculate missing data for each column\n",
    "def calc_missing_data(data):\n",
    "    print(data.shape)\n",
    "    missing_data = data.isna().sum()\n",
    "    missing_data = missing_data.sort_values(ascending=False)\n",
    "    print(\"Columns with more missing data:\")\n",
    "    print(missing_data.head())\n",
    "    total_missing = missing_data.sum()\n",
    "    print(\"\\nTotal number of missing data:\", total_missing)\n",
    "    return total_missing\n",
    "\n",
    "total_missing = calc_missing_data(df)"
   ]
  },
  {
   "cell_type": "code",
   "execution_count": 25,
   "metadata": {},
   "outputs": [
    {
     "name": "stdout",
     "output_type": "stream",
     "text": [
      "There was not missing data in the dataframe.\n"
     ]
    }
   ],
   "source": [
    "# Impute missing data using a fast method\n",
    "if total_missing > 0:\n",
    "    df.fillna(df.median(), inplace=True)\n",
    "    print(\"Missing data has been imputed using a fast method.\\n\")\n",
    "    total_missing = calc_missing_data(df)\n",
    "else: print (\"There was not missing data in the dataframe.\")"
   ]
  },
  {
   "cell_type": "markdown",
   "metadata": {},
   "source": [
    "## 2. Defining target y and features X"
   ]
  },
  {
   "cell_type": "code",
   "execution_count": 26,
   "metadata": {},
   "outputs": [
    {
     "name": "stdout",
     "output_type": "stream",
     "text": [
      "Summary of statistics for KPI variable BMA_corregido in X.\n"
     ]
    },
    {
     "data": {
      "text/plain": [
       "count     51618.000000\n",
       "mean         17.627195\n",
       "std        2277.249644\n",
       "min     -185990.403750\n",
       "25%          72.806400\n",
       "50%         177.665708\n",
       "75%         262.404322\n",
       "max       21746.517500\n",
       "Name: BMA_corregido, dtype: float64"
      ]
     },
     "execution_count": 26,
     "metadata": {},
     "output_type": "execute_result"
    }
   ],
   "source": [
    "# Describe KPI variable\n",
    "print(\"Summary of statistics for KPI variable\", KPI, \"in X.\")\n",
    "df[KPI].describe()"
   ]
  },
  {
   "cell_type": "code",
   "execution_count": 27,
   "metadata": {},
   "outputs": [
    {
     "name": "stdout",
     "output_type": "stream",
     "text": [
      "Boxplot of KPI in dataset X:\n",
      "\n"
     ]
    },
    {
     "data": {
      "image/png": "[encoded data removed]",
      "text/plain": [
       "<Figure size 800x100 with 1 Axes>"
      ]
     },
     "metadata": {},
     "output_type": "display_data"
    }
   ],
   "source": [
    "# Boxplot of the KPI\n",
    "def plot_boxplot(X, var):\n",
    "    plt.figure(figsize=(8, 1))\n",
    "    plt.boxplot(X[var], vert=False)\n",
    "    plt.title('Boxplot of ' + var)\n",
    "    plt.xlabel('Value')\n",
    "    plt.grid(True)\n",
    "    plt.show()\n",
    "\n",
    "print(\"Boxplot of KPI in dataset X:\\n\")\n",
    "plot_boxplot(df, KPI)"
   ]
  },
  {
   "cell_type": "code",
   "execution_count": 28,
   "metadata": {},
   "outputs": [
    {
     "name": "stdout",
     "output_type": "stream",
     "text": [
      "Total customers in dataset: 51,618 customers in X\n",
      "Based on KPI, maximum possible benefit in X: 12,238,483 euros\n",
      "Based on KPI, real benefit before applying any model: 909,881 euros (7% of max)\n"
     ]
    }
   ],
   "source": [
    "# Compute the average and total benefit before applyting any classification model to filter customers\n",
    "print(f\"Total customers in dataset: {df.shape[0]:,.0f} customers in X\")\n",
    "max_benefit = df[df[KPI] > 0][KPI].sum()\n",
    "real_benefit = df[KPI].sum()\n",
    "p_r_benefit = int(round(100 * real_benefit / max_benefit, 0))\n",
    "avg_r_benefit = df[KPI].mean()\n",
    "print(f\"Based on KPI, maximum possible benefit in X: {max_benefit:,.0f} euros\")\n",
    "print(f\"Based on KPI, real benefit before applying any model: {real_benefit:,.0f} euros ({p_r_benefit}% of max)\")\n",
    "# print(f\"Based on KPI, avg. benefit before applying any model: {avg_r_benefit:,.2f} euros per cust. in dataset\")"
   ]
  },
  {
   "cell_type": "markdown",
   "metadata": {},
   "source": [
    "## 3. Creating Pareto"
   ]
  },
  {
   "cell_type": "code",
   "execution_count": 29,
   "metadata": {},
   "outputs": [
    {
     "data": {
      "image/png": "[encoded data removed]",
      "text/plain": [
       "<Figure size 1200x700 with 2 Axes>"
      ]
     },
     "metadata": {},
     "output_type": "display_data"
    }
   ],
   "source": [
    "kpi_column = \"BMA_corregido\"\n",
    "\n",
    "if kpi_column in df.columns:\n",
    "    # Filter only loss values (negative values)\n",
    "    loss_df = df[df[kpi_column] < 0].copy()\n",
    "    \n",
    "    # Sort losses from largest to smallest (in absolute terms)\n",
    "    loss_df = loss_df.sort_values(by=kpi_column, ascending=True)\n",
    "    \n",
    "    # Get absolute loss values (convert negative to positive)\n",
    "    abs_losses = -loss_df[kpi_column].values\n",
    "    \n",
    "    # Compute cumulative sum and percentage\n",
    "    cumulative_losses = np.cumsum(abs_losses)\n",
    "    total_loss = cumulative_losses[-1]\n",
    "    cumulative_percentage = (cumulative_losses / total_loss) * 100\n",
    "    \n",
    "    # Calculate number of customers\n",
    "    num_customers = len(abs_losses)\n",
    "    \n",
    "    # Create figure with two y-axes\n",
    "    fig, ax1 = plt.subplots(figsize=(12, 7))\n",
    "    ax2 = ax1.twinx()\n",
    "    \n",
    "    # Plot individual losses as bars\n",
    "    bars = ax1.bar(range(num_customers), abs_losses, color='steelblue', alpha=0.7)\n",
    "    ax1.set_xlabel('Customers (Sorted by Loss Amount)', fontsize=12)\n",
    "    ax1.set_ylabel('Individual Loss', color='steelblue', fontsize=12)\n",
    "    ax1.tick_params(axis='y', labelcolor='steelblue')\n",
    "    \n",
    "    # Format y-axis to use currency or thousand separator\n",
    "    def currency_formatter(x, pos):\n",
    "        return f\"${x:,.0f}\" if x >= 1000 else f\"${x:.2f}\"\n",
    "    \n",
    "    ax1.yaxis.set_major_formatter(FuncFormatter(currency_formatter))\n",
    "    \n",
    "    # Plot cumulative percentage as line\n",
    "    line = ax2.plot(range(num_customers), cumulative_percentage, color='firebrick', \n",
    "                   linewidth=2, marker='o', markersize=4, markevery=max(1, num_customers//20))\n",
    "    ax2.set_ylabel('Cumulative Percentage (%)', color='firebrick', fontsize=12)\n",
    "    ax2.tick_params(axis='y', labelcolor='firebrick')\n",
    "    ax2.set_ylim([0, 105])  # Set y-axis limit with some padding\n",
    "    \n",
    "    # Add reference lines for 80% cumulative loss\n",
    "    eighty_percent_idx = np.where(cumulative_percentage >= 80)[0][0]\n",
    "    eighty_percent_customers = eighty_percent_idx + 1\n",
    "    \n",
    "    ax2.axhline(y=80, color='gray', linestyle='--', alpha=0.7)\n",
    "    ax1.axvline(x=eighty_percent_idx, color='gray', linestyle='--', alpha=0.7)\n",
    "    \n",
    "    # Add annotations\n",
    "    ax2.annotate(f'80% of losses', xy=(num_customers/2, 82), \n",
    "                xytext=(num_customers/2, 82), color='gray', ha='center')\n",
    "    \n",
    "    ax1.annotate(f'Top {eighty_percent_customers} customers\\n({(eighty_percent_customers/num_customers*100):.1f}% of total)',\n",
    "                xy=(eighty_percent_idx, abs_losses[eighty_percent_idx]/2), \n",
    "                xytext=(eighty_percent_idx/2, max(abs_losses)/2),\n",
    "                color='gray', ha='center', \n",
    "                arrowprops=dict(arrowstyle=\"->\", color='gray', alpha=0.7))\n",
    "    \n",
    "    # Add grid, title and legend\n",
    "    ax1.grid(True, alpha=0.3)\n",
    "    \n",
    "    # Add total loss info\n",
    "    fig.text(0.01, 0.01, f'Total Loss: ${total_loss:,.2f} | Total Customers with Losses: {num_customers}', \n",
    "             fontsize=10, color='dimgray')\n",
    "    \n",
    "    # Create legend\n",
    "    from matplotlib.lines import Line2D\n",
    "    legend_elements = [\n",
    "        Line2D([0], [0], color='steelblue', lw=0, marker='s', markersize=10, label='Individual Loss'),\n",
    "        Line2D([0], [0], color='firebrick', lw=2, marker='o', markersize=6, label='Cumulative %')\n",
    "    ]\n",
    "    ax1.legend(handles=legend_elements, loc='upper right')\n",
    "    \n",
    "    # Add table with summary statistics below the plot (optional)\n",
    "    percentiles = [50, 80, 90, 95, 99]\n",
    "    percentile_data = []\n",
    "    \n",
    "    for p in percentiles:\n",
    "        idx = np.where(cumulative_percentage >= p)[0][0]\n",
    "        customers_count = idx + 1\n",
    "        customers_percentage = (customers_count / num_customers) * 100\n",
    "        percentile_data.append([p, customers_count, customers_percentage])\n",
    "    \n",
    "    # Adjust layout\n",
    "    plt.tight_layout()\n",
    "    plt.savefig(\"pareto.png\")\n",
    "    plt.show()\n"
   ]
  },
  {
   "cell_type": "code",
   "execution_count": 30,
   "metadata": {},
   "outputs": [
    {
     "name": "stdout",
     "output_type": "stream",
     "text": [
      "Number of customers with losses: 9984\n"
     ]
    }
   ],
   "source": [
    "num_customers_with_losses = (df[\"BMA_corregido\"] < 0).sum()\n",
    "\n",
    "print(f\"Number of customers with losses: {num_customers_with_losses}\")"
   ]
  },
  {
   "cell_type": "code",
   "execution_count": 31,
   "metadata": {},
   "outputs": [
    {
     "data": {
      "text/plain": [
       "0.043589445542252706"
      ]
     },
     "execution_count": 31,
     "metadata": {},
     "output_type": "execute_result"
    }
   ],
   "source": [
    "a=2250/df.shape[0]\n",
    "a"
   ]
  },
  {
   "cell_type": "markdown",
   "metadata": {},
   "source": [
    "# 4. Creating test and train split"
   ]
  },
  {
   "cell_type": "code",
   "execution_count": 53,
   "metadata": {},
   "outputs": [],
   "source": [
    "threshold_value = df[\"BMA_corregido\"].quantile(0.07)\n",
    "\n",
    "df[\"High_Loss_Customer\"] = df[\"BMA_corregido\"] < threshold_value"
   ]
  },
  {
   "cell_type": "code",
   "execution_count": 54,
   "metadata": {},
   "outputs": [],
   "source": [
    "y = df[\"High_Loss_Customer\"]"
   ]
  },
  {
   "cell_type": "code",
   "execution_count": 55,
   "metadata": {},
   "outputs": [],
   "source": [
    "X_train_val, X_test, y_train_val, y_test = train_test_split(df, y, test_size=0.3, random_state=42)\n",
    "\n",
    "X_train, X_val, y_train, y_val = train_test_split(X_train_val, y_train_val, test_size=0.2, random_state=42)"
   ]
  },
  {
   "cell_type": "code",
   "execution_count": 56,
   "metadata": {},
   "outputs": [
    {
     "name": "stdout",
     "output_type": "stream",
     "text": [
      "Maximum possible benefit in X_train_val: 6,835,114 euros\n",
      "Train_val real benefit before models: 267,547 euros (4% of max)\n",
      "Train_val avg. benefit before models: 9.26 euros per cust. in dataset\n"
     ]
    }
   ],
   "source": [
    "max_benefit_train = X_train[X_train[\"BMA_corregido\"] > 0][KPI].sum()\n",
    "real_benefit_train = X_train[\"BMA_corregido\"].sum()\n",
    "p_real_benefit_train = int(round(100 * real_benefit_train / max_benefit_train, 0))\n",
    "avg_real_benefit_train = X_train[\"BMA_corregido\"].mean()\n",
    "print(f\"Maximum possible benefit in X_train_val: {max_benefit_train:,.0f} euros\")\n",
    "print(f\"Train_val real benefit before models: {real_benefit_train:,.0f} euros ({p_real_benefit_train}% of max)\")\n",
    "print(f\"Train_val avg. benefit before models: {avg_real_benefit_train:,.2f} euros per cust. in dataset\")"
   ]
  },
  {
   "cell_type": "code",
   "execution_count": 57,
   "metadata": {},
   "outputs": [],
   "source": [
    "X_train.drop(columns=[\"BMA_corregido\", \"BMA_pol\", \"High_Loss_Customer\"], inplace=True)\n",
    "X_val.drop(columns=[\"BMA_corregido\", \"BMA_pol\", \"High_Loss_Customer\"], inplace=True)\n",
    "X_test.drop(columns=[\"BMA_corregido\", \"BMA_pol\", \"High_Loss_Customer\"], inplace=True)"
   ]
  },
  {
   "cell_type": "code",
   "execution_count": 58,
   "metadata": {},
   "outputs": [
    {
     "name": "stdout",
     "output_type": "stream",
     "text": [
      "The following features have been removed due to high correlation:\n",
      " ['INE_029', 'INE_006', 'INE_047', 'INE_051', 'INE_011', 'INE_014', 'INE_044', 'INE_022', 'DGC_011', 'INE_049', 'INE_046', 'INE_054', 'REP_004', 'id21', 'INE_013', 'INE_004', 'INE_023', 'INE_017', 'INE_032', 'DGC_004', 'INE_055', 'INE_021', 'id71', 'INE_001', 'id59', 'INE_015', 'INE_053', 'DGC_013', 'INE_003', 'id70', 'INE_026', 'INE_028', 'NumeroDanyosPersonalesSINCO', 'INE_027', 'DGC_006', 'INE_048', 'ComarcaID', 'INE_002', 'TiempoSINCO', 'REP_003', 'INE_041', 'REP_001', 'INE_030', 'FrecuenciaDanyo_MaterialesSINCO', 'INE_035', 'INE_031', 'DGC_001', 'INE_052', 'INE_005', 'INE_036', 'INE_038', 'TotalMatriculasSINCO', 'INE_050', 'DGC_014', 'Edad', 'INE_039']\n"
     ]
    }
   ],
   "source": [
    "# Calculate correlation matrix\n",
    "corr_matrix = X_train.corr().abs()\n",
    "#plt.figure(figsize=(10, 8))\n",
    "#sns.heatmap(corr_matrix, cmap='coolwarm', center=0, annot=False)\n",
    "#plt.title('Correlation Matrix')\n",
    "#plt.show()\n",
    "\n",
    "# Create a set to store features to drop\n",
    "to_drop = set()\n",
    "\n",
    "# Extract upper triangle of correlation matrix\n",
    "upper_tri = corr_matrix.where(np.triu(np.ones(corr_matrix.shape), k=1).astype(bool))\n",
    "\n",
    "# For each column in the upper triangle\n",
    "for column in upper_tri.columns:\n",
    "    # Get all features that have correlation > 0.8 with current column\n",
    "    correlated_features = upper_tri.index[upper_tri[column] > 0.8].tolist()\n",
    "    \n",
    "    # If there are any highly correlated features\n",
    "    if correlated_features:\n",
    "        # Keep the one with higher correlation with target variable\n",
    "        features_to_examine = [column] + correlated_features\n",
    "        # Calculate absolute correlation with target for each feature\n",
    "        corr_with_target = abs(pd.concat([X_train[features_to_examine]], axis=1).corrwith(y_train))\n",
    "        # Keep the feature with highest correlation to target\n",
    "        feature_to_keep = corr_with_target.idxmax()\n",
    "        \n",
    "        \n",
    "        # Add all other features to the drop list\n",
    "        for feature in features_to_examine:\n",
    "            if feature != feature_to_keep:\n",
    "                to_drop.add(feature)\n",
    "\n",
    "# Convert set to list\n",
    "to_drop = list(to_drop)\n",
    "\n",
    "# Print removed features\n",
    "print(\"The following features have been removed due to high correlation:\\n\", to_drop)"
   ]
  },
  {
   "cell_type": "code",
   "execution_count": 59,
   "metadata": {},
   "outputs": [
    {
     "name": "stdout",
     "output_type": "stream",
     "text": [
      "The following features have been removed due to high correlation:\n",
      " 56\n"
     ]
    }
   ],
   "source": [
    "print(\"The following features have been removed due to high correlation:\\n\", len(to_drop))\n"
   ]
  },
  {
   "cell_type": "code",
   "execution_count": 60,
   "metadata": {},
   "outputs": [],
   "source": [
    "X_train = X_train.drop(columns=to_drop)\n",
    "X_val = X_val.drop(columns=to_drop)\n",
    "X_test = X_test.drop(columns=to_drop)"
   ]
  },
  {
   "cell_type": "markdown",
   "metadata": {},
   "source": [
    "# 5. Training the model"
   ]
  },
  {
   "cell_type": "code",
   "execution_count": 61,
   "metadata": {},
   "outputs": [],
   "source": [
    "# Configuration parameters\n",
    "n_estimators = 50  # Number of models in the ensemble\n",
    "sampling_strategy = 2  # Ratio of majority:minority (1.0 = equal numbers)\n",
    "random_state = 42  # For reproducibility"
   ]
  },
  {
   "cell_type": "code",
   "execution_count": 62,
   "metadata": {},
   "outputs": [
    {
     "name": "stdout",
     "output_type": "stream",
     "text": [
      "Training set class distribution: Counter({False: 26887, True: 2018})\n",
      "Validation set class distribution: Counter({False: 6709, True: 518})\n"
     ]
    }
   ],
   "source": [
    "print(f\"Training set class distribution: {Counter(y_train)}\")\n",
    "print(f\"Validation set class distribution: {Counter(y_val)}\")"
   ]
  },
  {
   "cell_type": "code",
   "execution_count": 63,
   "metadata": {},
   "outputs": [],
   "source": [
    "class_counts = Counter(y_train)\n",
    "minority_class = min(class_counts, key=class_counts.get)\n",
    "majority_class = max(class_counts, key=class_counts.get)"
   ]
  },
  {
   "cell_type": "code",
   "execution_count": 64,
   "metadata": {},
   "outputs": [
    {
     "name": "stdout",
     "output_type": "stream",
     "text": [
      "Number of minority samples: 2018\n",
      "Number of majority samples to use in each model: 4036\n"
     ]
    }
   ],
   "source": [
    "# Get indices for each class\n",
    "minority_indices = np.where(y_train == minority_class)[0]\n",
    "majority_indices = np.where(y_train == majority_class)[0]\n",
    "\n",
    "# Calculate number of majority samples to use based on sampling strategy\n",
    "n_minority = len(minority_indices)\n",
    "n_majority_to_sample = int(n_minority * sampling_strategy)\n",
    "\n",
    "print(f\"Number of minority samples: {n_minority}\")\n",
    "print(f\"Number of majority samples to use in each model: {n_majority_to_sample}\")"
   ]
  },
  {
   "cell_type": "code",
   "execution_count": 65,
   "metadata": {},
   "outputs": [
    {
     "name": "stdout",
     "output_type": "stream",
     "text": [
      "Training model 1/50...\n",
      "Training model 2/50...\n",
      "Training model 3/50...\n",
      "Training model 4/50...\n",
      "Training model 5/50...\n",
      "Training model 6/50...\n",
      "Training model 7/50...\n",
      "Training model 8/50...\n",
      "Training model 9/50...\n",
      "Training model 10/50...\n",
      "Training model 11/50...\n",
      "Training model 12/50...\n",
      "Training model 13/50...\n",
      "Training model 14/50...\n",
      "Training model 15/50...\n",
      "Training model 16/50...\n",
      "Training model 17/50...\n",
      "Training model 18/50...\n",
      "Training model 19/50...\n",
      "Training model 20/50...\n",
      "Training model 21/50...\n",
      "Training model 22/50...\n",
      "Training model 23/50...\n",
      "Training model 24/50...\n",
      "Training model 25/50...\n",
      "Training model 26/50...\n",
      "Training model 27/50...\n",
      "Training model 28/50...\n",
      "Training model 29/50...\n",
      "Training model 30/50...\n",
      "Training model 31/50...\n",
      "Training model 32/50...\n",
      "Training model 33/50...\n",
      "Training model 34/50...\n",
      "Training model 35/50...\n",
      "Training model 36/50...\n",
      "Training model 37/50...\n",
      "Training model 38/50...\n",
      "Training model 39/50...\n",
      "Training model 40/50...\n",
      "Training model 41/50...\n",
      "Training model 42/50...\n",
      "Training model 43/50...\n",
      "Training model 44/50...\n",
      "Training model 45/50...\n",
      "Training model 46/50...\n",
      "Training model 47/50...\n",
      "Training model 48/50...\n",
      "Training model 49/50...\n",
      "Training model 50/50...\n",
      "Finished in 27.88016152381897 seconds\n"
     ]
    }
   ],
   "source": [
    "start = time.time()\n",
    "estimators = []\n",
    "\n",
    "# Create and train n_estimators models\n",
    "for i in range(n_estimators):\n",
    "    print(f\"Training model {i+1}/{n_estimators}...\")\n",
    "    \n",
    "    # Create a base estimator (RandomForest in this case)\n",
    "    estimator = RandomForestClassifier(random_state=random_state+i, n_jobs=-1)\n",
    "    \n",
    "    # Sample from majority class\n",
    "    np.random.seed(random_state + i)\n",
    "    majority_sample_indices = np.random.choice(\n",
    "        majority_indices, \n",
    "        size=min(n_majority_to_sample, len(majority_indices)), \n",
    "        replace=False\n",
    "    )\n",
    "    \n",
    "    # Combine with all minority samples\n",
    "    sample_indices = np.concatenate([minority_indices, majority_sample_indices])\n",
    "    \n",
    "    # Extract the balanced training subset\n",
    "    X_sampled = X_train.iloc[sample_indices]\n",
    "    y_sampled = y_train.iloc[sample_indices]\n",
    "    \n",
    "    # Train the model on the balanced subset\n",
    "    estimator.fit(X_sampled, y_sampled)\n",
    "    \n",
    "    # Add to our list of estimators\n",
    "    estimators.append(estimator)\n",
    "\n",
    "# Make predictions with each model\n",
    "all_predictions = np.array([estimator.predict(X_val) for estimator in estimators])\n",
    "\n",
    "# Combine predictions through majority voting\n",
    "final_predictions = np.apply_along_axis(\n",
    "    lambda x: np.argmax(np.bincount(x, minlength=len(np.unique(y_val)))),\n",
    "    axis=0,\n",
    "    arr=all_predictions\n",
    ")\n",
    "end = time.time()\n",
    "print(f\"Finished in {end-start} seconds\") \n",
    "\n"
   ]
  },
  {
   "cell_type": "code",
   "execution_count": 66,
   "metadata": {},
   "outputs": [
    {
     "name": "stdout",
     "output_type": "stream",
     "text": [
      "\n",
      "Confusion Matrix:\n",
      "[[6290  419]\n",
      " [ 397  121]]\n",
      "\n",
      "Classification Report:\n",
      "              precision    recall  f1-score   support\n",
      "\n",
      "       False       0.94      0.94      0.94      6709\n",
      "        True       0.22      0.23      0.23       518\n",
      "\n",
      "    accuracy                           0.89      7227\n",
      "   macro avg       0.58      0.59      0.58      7227\n",
      "weighted avg       0.89      0.89      0.89      7227\n",
      "\n"
     ]
    },
    {
     "data": {
      "image/png": "[encoded data removed]",
      "text/plain": [
       "<Figure size 800x600 with 2 Axes>"
      ]
     },
     "metadata": {},
     "output_type": "display_data"
    }
   ],
   "source": [
    "# Calculate performance metrics\n",
    "conf_matrix = confusion_matrix(y_val, final_predictions)\n",
    "class_report = classification_report(y_val, final_predictions)\n",
    "\n",
    "print(\"\\nConfusion Matrix:\")\n",
    "print(conf_matrix)\n",
    "print(\"\\nClassification Report:\")\n",
    "print(class_report)\n",
    "\n",
    "# Plot the confusion matrix\n",
    "plt.figure(figsize=(8, 6))\n",
    "sns.heatmap(conf_matrix, annot=True, fmt='d', cmap='Blues',\n",
    "            xticklabels=[f'Class {i}' for i in np.unique(y)],\n",
    "            yticklabels=[f'Class {i}' for i in np.unique(y)])\n",
    "plt.xlabel('Predicted')\n",
    "plt.ylabel('Actual')\n",
    "plt.title('Balanced Bagging Confusion Matrix')\n",
    "plt.tight_layout()\n",
    "plt.savefig(\"appraoch3.png\")\n",
    "plt.show()\n"
   ]
  },
  {
   "cell_type": "code",
   "execution_count": 67,
   "metadata": {},
   "outputs": [
    {
     "name": "stdout",
     "output_type": "stream",
     "text": [
      "Maximum possible benefit in Validation set: 1,728,523 euros\n",
      "Validation set real benefit after models: 491,516 euros (28% of max)\n",
      "Validation set avg. benefit after models: 73.50 euros per cust. in dataset\n",
      "Clients excluded: 7.47%\n"
     ]
    }
   ],
   "source": [
    "profit(X_val, final_predictions, df_original, \"Validation set\", \"after\")"
   ]
  },
  {
   "cell_type": "markdown",
   "metadata": {},
   "source": [
    "# 6. Final Result"
   ]
  },
  {
   "cell_type": "code",
   "execution_count": 71,
   "metadata": {},
   "outputs": [
    {
     "name": "stdout",
     "output_type": "stream",
     "text": [
      "Finished in 7.288081645965576 seconds\n"
     ]
    }
   ],
   "source": [
    "start = time.time()\n",
    "test_predictions = np.array([estimator.predict(X_test) for estimator in estimators])\n",
    "\n",
    "# Combine predictions through majority voting (same method as before)\n",
    "final_test_predictions = np.apply_along_axis(\n",
    "    lambda x: np.argmax(np.bincount(x, minlength=len(np.unique(y_test)))),\n",
    "    axis=0,\n",
    "    arr=test_predictions\n",
    ")\n",
    "end = time.time()\n",
    "print(f\"Finished in {end-start} seconds\") \n"
   ]
  },
  {
   "cell_type": "code",
   "execution_count": 72,
   "metadata": {},
   "outputs": [
    {
     "name": "stdout",
     "output_type": "stream",
     "text": [
      "\n",
      "Confusion Matrix:\n",
      "[[13415   993]\n",
      " [  813   265]]\n",
      "\n",
      "Classification Report:\n",
      "              precision    recall  f1-score   support\n",
      "\n",
      "       False       0.94      0.93      0.94     14408\n",
      "        True       0.21      0.25      0.23      1078\n",
      "\n",
      "    accuracy                           0.88     15486\n",
      "   macro avg       0.58      0.59      0.58     15486\n",
      "weighted avg       0.89      0.88      0.89     15486\n",
      "\n"
     ]
    },
    {
     "data": {
      "image/png": "[encoded data removed]",
      "text/plain": [
       "<Figure size 800x600 with 2 Axes>"
      ]
     },
     "metadata": {},
     "output_type": "display_data"
    }
   ],
   "source": [
    "# Calculate performance metrics\n",
    "conf_matrix = confusion_matrix(y_test, final_test_predictions)\n",
    "class_report = classification_report(y_test, final_test_predictions)\n",
    "\n",
    "print(\"\\nConfusion Matrix:\")\n",
    "print(conf_matrix)\n",
    "print(\"\\nClassification Report:\")\n",
    "print(class_report)\n",
    "\n",
    "# Plot the confusion matrix\n",
    "plt.figure(figsize=(8, 6))\n",
    "sns.heatmap(conf_matrix, annot=True, fmt='d', cmap='Blues',\n",
    "            xticklabels=[f'Class {i}' for i in np.unique(y)],\n",
    "            yticklabels=[f'Class {i}' for i in np.unique(y)])\n",
    "plt.xlabel('Predicted')\n",
    "plt.ylabel('Actual')\n",
    "plt.title('Balanced Bagging Confusion Matrix')\n",
    "plt.tight_layout()\n",
    "plt.savefig(\"final.png\")\n",
    "plt.show()\n"
   ]
  },
  {
   "cell_type": "code",
   "execution_count": 73,
   "metadata": {},
   "outputs": [
    {
     "name": "stdout",
     "output_type": "stream",
     "text": [
      "Maximum possible benefit in Test dataset: 3,674,846 euros\n",
      "Test dataset real benefit after models: 1,275,284 euros (35% of max)\n",
      "Test dataset avg. benefit after models: 89.63 euros per cust. in dataset\n",
      "Clients excluded: 8.12%\n"
     ]
    }
   ],
   "source": [
    "profit(X_test, final_test_predictions, df_original, \"Test dataset\", \"after\")"
   ]
  },
  {
   "cell_type": "markdown",
   "metadata": {},
   "source": [
    "# Help functions"
   ]
  },
  {
   "cell_type": "code",
   "execution_count": 48,
   "metadata": {},
   "outputs": [],
   "source": [
    "# Drop the ones classified as 1 in the prediction of the model (y_pred)\n",
    "def profit(X_test, y_pred, df_original, set, timing):\n",
    "\n",
    "    X = X_test.copy()\n",
    "    X['pred'] = y_pred\n",
    "    \n",
    "    benefit = df_original[\"BMA_corregido\"]\n",
    "    result = pd.merge(X, benefit, left_index=True, right_index=True, how=\"inner\")\n",
    "\n",
    "    max_benefit = result[result[\"BMA_corregido\"] > 0][KPI].sum()\n",
    "    real_benefit = result[result.pred == 0][\"BMA_corregido\"].sum()\n",
    "    p_real_benefit = int(round(100 * real_benefit / max_benefit, 0))\n",
    "    avg_real_benefit = result[result.pred == 0][\"BMA_corregido\"].mean()\n",
    "    clients_excluded = len(X[y_pred == 1]) / len(X) * 100\n",
    "    print(f\"Maximum possible benefit in {set}: {max_benefit:,.0f} euros\")\n",
    "    print(f\"{set} real benefit {timing} models: {real_benefit:,.0f} euros ({p_real_benefit}% of max)\")\n",
    "    print(f\"{set} avg. benefit {timing} models: {avg_real_benefit:,.2f} euros per cust. in dataset\")\n",
    "    print(f\"Clients excluded: {clients_excluded:,.2f}%\")\n"
   ]
  }
 ],
 "metadata": {
  "kernelspec": {
   "display_name": "Python 3 (ipykernel)",
   "language": "python",
   "name": "python3"
  },
  "language_info": {
   "codemirror_mode": {
    "name": "ipython",
    "version": 3
   },
   "file_extension": ".py",
   "mimetype": "text/x-python",
   "name": "python",
   "nbconvert_exporter": "python",
   "pygments_lexer": "ipython3",
   "version": "3.11.9"
  }
 },
 "nbformat": 4,
 "nbformat_minor": 4
}
